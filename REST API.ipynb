{
 "cells": [
  {
   "cell_type": "code",
   "execution_count": 1,
   "metadata": {},
   "outputs": [],
   "source": [
    "import fxcmpy"
   ]
  },
  {
   "cell_type": "code",
   "execution_count": 2,
   "metadata": {},
   "outputs": [],
   "source": [
    "TOKEN=\"35f708e63c065bb0a95b44fa5d2f320e58258a75\""
   ]
  },
  {
   "cell_type": "code",
   "execution_count": 3,
   "metadata": {},
   "outputs": [],
   "source": [
    "con=fxcmpy.fxcmpy(access_token=TOKEN,log_level='error')"
   ]
  },
  {
   "cell_type": "code",
   "execution_count": 4,
   "metadata": {},
   "outputs": [],
   "source": [
    "con.subscribe_market_data('EUR/USD')"
   ]
  },
  {
   "cell_type": "code",
   "execution_count": 5,
   "metadata": {},
   "outputs": [],
   "source": [
    "prices=con.get_prices('EUR/USD')"
   ]
  },
  {
   "cell_type": "code",
   "execution_count": 6,
   "metadata": {},
   "outputs": [],
   "source": [
    "prices.to_csv(\"prices.csv\")"
   ]
  },
  {
   "cell_type": "code",
   "execution_count": 7,
   "metadata": {},
   "outputs": [],
   "source": [
    "con.unsubscribe_market_data('EUR/USD')"
   ]
  },
  {
   "cell_type": "code",
   "execution_count": 8,
   "metadata": {},
   "outputs": [],
   "source": [
    "position=con.open_trade(symbol='EUR/USD', is_buy=True, amount=100, time_in_force='GTC', order_type='AtMarket', rate=1.5, is_in_pips=False, limit=1.5, at_market=1.2, stop=1.1, trailing_step=50, account_id=1154124)"
   ]
  },
  {
   "cell_type": "code",
   "execution_count": 9,
   "metadata": {},
   "outputs": [
    {
     "name": "stdout",
     "output_type": "stream",
     "text": [
      "accountId:        1154124\n",
      "accountName:      01154124\n",
      "amountK:          0\n",
      "buy:              1.113\n",
      "currency:         EUR/USD\n",
      "currencyPoint:    0\n",
      "expireDate:       \n",
      "isBuy:            True\n",
      "isELSOrder:       False\n",
      "isEntryOrder:     False\n",
      "isLimitOrder:     False\n",
      "isNetQuantity:    False\n",
      "isStopOrder:      False\n",
      "limit:            0\n",
      "limitPegBaseType: -1\n",
      "limitRate:        0\n",
      "ocoBulkId:        0\n",
      "orderId:          328416774\n",
      "range:            0\n",
      "sell:             0\n",
      "status:           Executing\n",
      "stop:             0\n",
      "stopMove:         0\n",
      "stopPegBaseType:  -1\n",
      "stopRate:         0\n",
      "time:             2019-08-05 06:14:19.299000\n",
      "timeInForce:      GTC\n",
      "tradeId:          156097561\n",
      "type:             OM\n",
      "\n"
     ]
    }
   ],
   "source": [
    "print(position)"
   ]
  },
  {
   "cell_type": "code",
   "execution_count": 10,
   "metadata": {},
   "outputs": [],
   "source": [
    "order=con.create_entry_order(symbol=\"EUR/USD\", is_buy=True, amount=100, time_in_force='GTC', order_type='Entry', limit=5, is_in_pips=True, rate=1.5, stop=-50, trailing_step=50, account_id=1154124)"
   ]
  },
  {
   "cell_type": "code",
   "execution_count": 11,
   "metadata": {},
   "outputs": [
    {
     "name": "stdout",
     "output_type": "stream",
     "text": [
      "accountId:        1154124\n",
      "accountName:      01154124\n",
      "amountK:          0\n",
      "buy:              1.113\n",
      "currency:         EUR/USD\n",
      "currencyPoint:    0\n",
      "expireDate:       \n",
      "isBuy:            True\n",
      "isELSOrder:       False\n",
      "isEntryOrder:     False\n",
      "isLimitOrder:     False\n",
      "isNetQuantity:    False\n",
      "isStopOrder:      False\n",
      "limit:            1.5\n",
      "limitPegBaseType: -1\n",
      "limitRate:        1.5\n",
      "ocoBulkId:        0\n",
      "orderId:          328416774\n",
      "range:            0\n",
      "sell:             0\n",
      "status:           Executing\n",
      "stop:             1.1\n",
      "stopMove:         0\n",
      "stopPegBaseType:  -1\n",
      "stopRate:         1.1\n",
      "time:             2019-08-05 06:14:19.299000\n",
      "timeInForce:      GTC\n",
      "tradeId:          156097561\n",
      "type:             OM\n",
      "\n"
     ]
    }
   ],
   "source": [
    "print(position)"
   ]
  },
  {
   "cell_type": "code",
   "execution_count": 12,
   "metadata": {},
   "outputs": [],
   "source": [
    "OrderId=order.get_orderId()"
   ]
  },
  {
   "cell_type": "code",
   "execution_count": 13,
   "metadata": {},
   "outputs": [
    {
     "name": "stdout",
     "output_type": "stream",
     "text": [
      "328416777\n"
     ]
    }
   ],
   "source": [
    "print(OrderId)"
   ]
  },
  {
   "cell_type": "code",
   "execution_count": 14,
   "metadata": {},
   "outputs": [],
   "source": [
    "TradeId=order.get_tradeId()"
   ]
  },
  {
   "cell_type": "code",
   "execution_count": 15,
   "metadata": {},
   "outputs": [
    {
     "name": "stdout",
     "output_type": "stream",
     "text": [
      "156097563\n"
     ]
    }
   ],
   "source": [
    "print(TradeId)"
   ]
  },
  {
   "cell_type": "code",
   "execution_count": 16,
   "metadata": {},
   "outputs": [],
   "source": [
    "position=con.get_open_positions()"
   ]
  },
  {
   "cell_type": "code",
   "execution_count": 17,
   "metadata": {},
   "outputs": [
    {
     "name": "stdout",
     "output_type": "stream",
     "text": [
      "   accountId accountName  amountK        close  com currency  currencyPoint  \\\n",
      "0    1154124    01154124    0.100  11737.75000    0    GER30        0.01000   \n",
      "1    1154124    01154124   10.000      1.11290    0  EUR/USD        0.89850   \n",
      "2    1154124    01154124    0.100   5308.60000    0    FRA40        0.01000   \n",
      "3    1154124    01154124  100.000      1.11290    0  EUR/USD        8.98501   \n",
      "4    1154124    01154124  100.000      1.11303    0  EUR/USD        8.98501   \n",
      "5    1154124    01154124  100.000    117.84800    0  EUR/JPY        8.48623   \n",
      "6    1154124    01154124   10.000      1.11290    0  EUR/USD        0.89850   \n",
      "7    1154124    01154124    0.095   7338.50000    0    UK100        0.01034   \n",
      "8    1154124    01154124  100.000      1.11290    0  EUR/USD        8.98501   \n",
      "9    1154124    01154124  100.000      1.11290    0  EUR/USD        8.98501   \n",
      "10   1154124    01154124  100.000    105.87000    0  USD/JPY        8.48623   \n",
      "11   1154124    01154124    0.100   7338.50000    0    UK100        0.01089   \n",
      "12   1154124    01154124  100.000      1.11303    0  EUR/USD        8.98501   \n",
      "13   1154124    01154124  100.000      0.97856    0  USD/CHF        9.18248   \n",
      "14   1154124    01154124    0.100  11737.75000    0    GER30        0.01000   \n",
      "15   1154124    01154124    9.000      1.11290    0  EUR/USD        0.80865   \n",
      "16   1154124    01154124  100.000      1.11290    0  EUR/USD        8.98501   \n",
      "17   1154124    01154124    9.000      1.11290    0  EUR/USD        0.80865   \n",
      "18   1154124    01154124    1.000    105.88300    0  USD/JPY        0.08486   \n",
      "19   1154124    01154124   10.000      1.11290    0  EUR/USD        0.89850   \n",
      "20   1154124    01154124  100.000      1.11290    0  EUR/USD        8.98501   \n",
      "21   1154124    01154124  100.000      1.11303    0  EUR/USD        8.98501   \n",
      "22   1154124    01154124  100.000      1.11303    0  EUR/USD        8.98501   \n",
      "23   1154124    01154124  100.000      1.11290    0  EUR/USD        8.98501   \n",
      "\n",
      "       grossPL  isBuy  isDisabled    ...      ratePrecision    roll  stop  \\\n",
      "0   6771.00000  False       False    ...                  2  -69.34   0.0   \n",
      "1    -15.36526   True       False    ...                  5   -5.43   0.0   \n",
      "2   2936.00000  False       False    ...                  2  -31.52   0.0   \n",
      "3    350.43580   True       False    ...                  5  -10.70   1.1   \n",
      "4      8.98448  False       False    ...                  5   24.99   0.0   \n",
      "5   2537.16652  False       False    ...                  3    0.50   0.0   \n",
      "6    -15.54497   True       False    ...                  5   -5.43   0.0   \n",
      "7  -2831.53683   True       False    ...                  2  -56.46   0.0   \n",
      "8    301.01537   True       False    ...                  5  -10.70   1.1   \n",
      "9    248.89927   True       False    ...                  5  -10.70   1.1   \n",
      "10 -2362.56556   True       False    ...                  3   25.06   0.0   \n",
      "11 -2651.75023   True       False    ...                  2  -41.47   0.0   \n",
      "12   176.09588  False       False    ...                  5   31.32   0.0   \n",
      "13  1291.97543  False       False    ...                  5 -102.52   0.0   \n",
      "14  6516.00000  False       False    ...                  2  -69.34   0.0   \n",
      "15   -18.60005   True       False    ...                  5   -4.88   0.0   \n",
      "16   -53.01465   True       False    ...                  5 -103.25   0.0   \n",
      "17   -16.82092   True       False    ...                  5   -4.88   0.0   \n",
      "18    23.60868  False       False    ...                  3   -0.60   0.0   \n",
      "19   -15.54497   True       False    ...                  5   -5.43   0.0   \n",
      "20   265.97179   True       False    ...                  5  -10.70   1.1   \n",
      "21  -104.22001  False       False    ...                  5   36.71   0.0   \n",
      "22   -98.82932  False       False    ...                  5   36.71   0.0   \n",
      "23    -8.98553   True       False    ...                  5    0.00   1.1   \n",
      "\n",
      "    stopMove  t            time    tradeId usedMargin valueDate  visiblePL  \n",
      "0        0.0  1  07292019074604  155687559    3500.00                677.1  \n",
      "1        0.0  1  07312019123137  155804873     166.50                -17.1  \n",
      "2        0.0  1  07292019110838  155701637    1500.00                293.6  \n",
      "3        9.8  1  08022019130855  155903592    1665.00                 39.0  \n",
      "4        0.0  1  07312019142756  155807242    1665.00                  1.0  \n",
      "5        0.0  1  07292019091249  155696034    1665.00                299.0  \n",
      "6        0.0  1  07312019123249  155804972     166.50                -17.3  \n",
      "7        0.0  1  07292019075224  155807916    2137.50               -273.7  \n",
      "8       14.2  1  08022019123034  155901743    1665.00                 33.5  \n",
      "9       21.0  1  08022019122014  155901346    1665.00                 27.7  \n",
      "10       0.0  1  07302019070307  155753025    1665.00               -278.4  \n",
      "11       0.0  1  07312019140830  155806914    2250.00               -243.6  \n",
      "12       0.0  1  07302019100946  155763621    1665.00                 19.6  \n",
      "13       0.0  1  07292019075039  155687861    1665.00                140.7  \n",
      "14       0.0  1  07292019070101  155684498    3500.00                651.6  \n",
      "15       0.0  1  07312019120800  155807807     149.85                -23.0  \n",
      "16       0.0  1  07252019060900  155588497    1665.00                 -5.9  \n",
      "17       0.0  1  07312019124649  155807806     149.85                -20.8  \n",
      "18       0.0  1  07292019124312  155705983      16.65                278.2  \n",
      "19       0.0  1  07312019123338  155805011     166.50                -17.3  \n",
      "20      19.3  1  08022019135301  155906838    1665.00                 29.6  \n",
      "21       0.0  1  07292019080303  155688888    1665.00                -11.6  \n",
      "22       0.0  1  07292019080234  155689016    1665.00                -11.0  \n",
      "23      49.8  1  08052019061419  156097561    1665.00                 -1.0  \n",
      "\n",
      "[24 rows x 22 columns]\n"
     ]
    }
   ],
   "source": [
    "print(position)"
   ]
  },
  {
   "cell_type": "code",
   "execution_count": 18,
   "metadata": {},
   "outputs": [
    {
     "data": {
      "text/html": [
       "<div>\n",
       "<style scoped>\n",
       "    .dataframe tbody tr th:only-of-type {\n",
       "        vertical-align: middle;\n",
       "    }\n",
       "\n",
       "    .dataframe tbody tr th {\n",
       "        vertical-align: top;\n",
       "    }\n",
       "\n",
       "    .dataframe thead th {\n",
       "        text-align: right;\n",
       "    }\n",
       "</style>\n",
       "<table border=\"1\" class=\"dataframe\">\n",
       "  <thead>\n",
       "    <tr style=\"text-align: right;\">\n",
       "      <th></th>\n",
       "    </tr>\n",
       "  </thead>\n",
       "  <tbody>\n",
       "  </tbody>\n",
       "</table>\n",
       "</div>"
      ],
      "text/plain": [
       "Empty DataFrame\n",
       "Columns: []\n",
       "Index: []"
      ]
     },
     "execution_count": 18,
     "metadata": {},
     "output_type": "execute_result"
    }
   ],
   "source": [
    "con.get_closed_positions().T"
   ]
  },
  {
   "cell_type": "code",
   "execution_count": 19,
   "metadata": {},
   "outputs": [
    {
     "data": {
      "text/html": [
       "<div>\n",
       "<style scoped>\n",
       "    .dataframe tbody tr th:only-of-type {\n",
       "        vertical-align: middle;\n",
       "    }\n",
       "\n",
       "    .dataframe tbody tr th {\n",
       "        vertical-align: top;\n",
       "    }\n",
       "\n",
       "    .dataframe thead th {\n",
       "        text-align: right;\n",
       "    }\n",
       "</style>\n",
       "<table border=\"1\" class=\"dataframe\">\n",
       "  <thead>\n",
       "    <tr style=\"text-align: right;\">\n",
       "      <th></th>\n",
       "      <th>0</th>\n",
       "    </tr>\n",
       "  </thead>\n",
       "  <tbody>\n",
       "    <tr>\n",
       "      <th>accountId</th>\n",
       "      <td>1154124</td>\n",
       "    </tr>\n",
       "    <tr>\n",
       "      <th>accountName</th>\n",
       "      <td>01154124</td>\n",
       "    </tr>\n",
       "    <tr>\n",
       "      <th>balance</th>\n",
       "      <td>47968.8</td>\n",
       "    </tr>\n",
       "    <tr>\n",
       "      <th>dayPL</th>\n",
       "      <td>3648.13</td>\n",
       "    </tr>\n",
       "    <tr>\n",
       "      <th>equity</th>\n",
       "      <td>61203.2</td>\n",
       "    </tr>\n",
       "    <tr>\n",
       "      <th>grossPL</th>\n",
       "      <td>13234.4</td>\n",
       "    </tr>\n",
       "    <tr>\n",
       "      <th>hedging</th>\n",
       "      <td>Y</td>\n",
       "    </tr>\n",
       "    <tr>\n",
       "      <th>mc</th>\n",
       "      <td>N</td>\n",
       "    </tr>\n",
       "    <tr>\n",
       "      <th>mcDate</th>\n",
       "      <td></td>\n",
       "    </tr>\n",
       "    <tr>\n",
       "      <th>ratePrecision</th>\n",
       "      <td>0</td>\n",
       "    </tr>\n",
       "    <tr>\n",
       "      <th>t</th>\n",
       "      <td>6</td>\n",
       "    </tr>\n",
       "    <tr>\n",
       "      <th>usableMargin</th>\n",
       "      <td>32531.5</td>\n",
       "    </tr>\n",
       "    <tr>\n",
       "      <th>usableMargin3</th>\n",
       "      <td>3859.81</td>\n",
       "    </tr>\n",
       "    <tr>\n",
       "      <th>usableMargin3Perc</th>\n",
       "      <td>6.30656</td>\n",
       "    </tr>\n",
       "    <tr>\n",
       "      <th>usableMarginPerc</th>\n",
       "      <td>53.1533</td>\n",
       "    </tr>\n",
       "    <tr>\n",
       "      <th>usdMr</th>\n",
       "      <td>28671.7</td>\n",
       "    </tr>\n",
       "    <tr>\n",
       "      <th>usdMr3</th>\n",
       "      <td>57343.4</td>\n",
       "    </tr>\n",
       "  </tbody>\n",
       "</table>\n",
       "</div>"
      ],
      "text/plain": [
       "                          0\n",
       "accountId           1154124\n",
       "accountName        01154124\n",
       "balance             47968.8\n",
       "dayPL               3648.13\n",
       "equity              61203.2\n",
       "grossPL             13234.4\n",
       "hedging                   Y\n",
       "mc                        N\n",
       "mcDate                     \n",
       "ratePrecision             0\n",
       "t                         6\n",
       "usableMargin        32531.5\n",
       "usableMargin3       3859.81\n",
       "usableMargin3Perc   6.30656\n",
       "usableMarginPerc    53.1533\n",
       "usdMr               28671.7\n",
       "usdMr3              57343.4"
      ]
     },
     "execution_count": 19,
     "metadata": {},
     "output_type": "execute_result"
    }
   ],
   "source": [
    "con.get_accounts().T"
   ]
  },
  {
   "cell_type": "code",
   "execution_count": 20,
   "metadata": {},
   "outputs": [],
   "source": [
    "con.close()"
   ]
  }
 ],
 "metadata": {
  "kernelspec": {
   "display_name": "Python 3",
   "language": "python",
   "name": "python3"
  },
  "language_info": {
   "codemirror_mode": {
    "name": "ipython",
    "version": 3
   },
   "file_extension": ".py",
   "mimetype": "text/x-python",
   "name": "python",
   "nbconvert_exporter": "python",
   "pygments_lexer": "ipython3",
   "version": "3.7.0"
  }
 },
 "nbformat": 4,
 "nbformat_minor": 2
}
